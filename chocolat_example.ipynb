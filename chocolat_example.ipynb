{
  "nbformat": 4,
  "nbformat_minor": 0,
  "metadata": {
    "colab": {
      "provenance": [],
      "gpuType": "T4",
      "authorship_tag": "ABX9TyMUgXZO0K+6egNoqTE3H24q",
      "include_colab_link": true
    },
    "kernelspec": {
      "name": "python3",
      "display_name": "Python 3"
    },
    "language_info": {
      "name": "python"
    },
    "accelerator": "GPU"
  },
  "cells": [
    {
      "cell_type": "markdown",
      "metadata": {
        "id": "view-in-github",
        "colab_type": "text"
      },
      "source": [
        "<a href=\"https://colab.research.google.com/github/EliorDS/TellMeWhy/blob/main/chocolat_example.ipynb\" target=\"_parent\"><img src=\"https://colab.research.google.com/assets/colab-badge.svg\" alt=\"Open In Colab\"/></a>"
      ]
    },
    {
      "cell_type": "code",
      "source": [
        "from google.colab import files\n",
        "files.upload()  # Select the kaggle.json file"
      ],
      "metadata": {
        "id": "qCXysEagDyGP"
      },
      "execution_count": null,
      "outputs": []
    },
    {
      "cell_type": "code",
      "source": [
        "import os\n",
        "import zipfile\n",
        "\n",
        "# Make a directory for kaggle\n",
        "os.makedirs(\"/root/.kaggle\", exist_ok=True)\n",
        "\n",
        "# Move the kaggle.json file to this directory\n",
        "!mv kaggle.json /root/.kaggle/\n",
        "\n",
        "# Set permissions (required)\n",
        "!chmod 600 /root/.kaggle/kaggle.json\n"
      ],
      "metadata": {
        "id": "Qetb33MVEqs8"
      },
      "execution_count": 3,
      "outputs": []
    },
    {
      "cell_type": "code",
      "source": [
        "!kaggle datasets download -d atharvasoundankar/chocolate-sales"
      ],
      "metadata": {
        "colab": {
          "base_uri": "https://localhost:8080/"
        },
        "id": "OExPGySoEtTd",
        "outputId": "36efee67-6621-4dbd-d7a5-46e608f8b1fe"
      },
      "execution_count": 4,
      "outputs": [
        {
          "output_type": "stream",
          "name": "stdout",
          "text": [
            "Dataset URL: https://www.kaggle.com/datasets/atharvasoundankar/chocolate-sales\n",
            "License(s): MIT\n"
          ]
        }
      ]
    },
    {
      "cell_type": "code",
      "source": [
        "with zipfile.ZipFile(\"chocolate-sales.zip\", 'r') as zip_ref:\n",
        "    zip_ref.extractall(\"chocolate-sales\")"
      ],
      "metadata": {
        "id": "PtDfY4VRE14K"
      },
      "execution_count": 5,
      "outputs": []
    },
    {
      "cell_type": "code",
      "source": [
        "# Import libraries and set up the notebook\n",
        "import warnings\n",
        "warnings.filterwarnings('ignore')\n",
        "\n",
        "import numpy as np\n",
        "import pandas as pd\n",
        "import matplotlib\n",
        "matplotlib.use('Agg')  # Use Agg backend\n",
        "import matplotlib.pyplot as plt\n",
        "%matplotlib inline\n",
        "\n",
        "import seaborn as sns\n",
        "sns.set(style=\"whitegrid\")\n",
        "\n",
        "from sklearn.model_selection import train_test_split\n",
        "from sklearn.preprocessing import OneHotEncoder, StandardScaler\n",
        "from sklearn.compose import ColumnTransformer\n",
        "from sklearn.pipeline import Pipeline\n",
        "from sklearn.ensemble import RandomForestRegressor\n",
        "from sklearn.metrics import r2_score, mean_squared_error\n",
        "\n",
        "# For permutation importance\n",
        "from sklearn.inspection import permutation_importance\n",
        "\n",
        "# Display version info (if needed for debugging)\n",
        "print(\"Python version:\", pd.__version__)\n",
        "print(\"Pandas version:\", pd.__version__)\n"
      ],
      "metadata": {
        "colab": {
          "base_uri": "https://localhost:8080/"
        },
        "id": "_VjPvHfIE74h",
        "outputId": "188e0a32-37cf-43e1-89d1-d637d046ea79"
      },
      "execution_count": 6,
      "outputs": [
        {
          "output_type": "stream",
          "name": "stdout",
          "text": [
            "Python version: 2.2.2\n",
            "Pandas version: 2.2.2\n"
          ]
        }
      ]
    },
    {
      "cell_type": "code",
      "source": [
        "# Load the dataset\n",
        "file_path = '/content/chocolate-sales/Chocolate Sales.csv'\n",
        "df = pd.read_csv(file_path)\n",
        "\n",
        "# Display the first few rows of the dataframe to inspect it (commented out since outputs are not included in this JSON)\n",
        "print(df.head())\n",
        "\n",
        "# Convert the 'Date' column to datetime. If an error is encountered, ensure the format is proper.\n",
        "df['Date'] = pd.to_datetime(df['Date'], errors='coerce')\n",
        "\n",
        "# Check for missing dates after conversion\n",
        "# Note: If missing values appear, this is an important step to be aware of for notebook developers.\n",
        "# print('Missing Date values:', df['Date'].isnull().sum())\n",
        "\n",
        "# Additional data type conversion or cleaning can be added here if necessary\n"
      ],
      "metadata": {
        "colab": {
          "base_uri": "https://localhost:8080/"
        },
        "id": "3Q2LVN2kFpHG",
        "outputId": "86e7ab05-4010-4d39-fe19-4a0e69974f67"
      },
      "execution_count": 10,
      "outputs": [
        {
          "output_type": "stream",
          "name": "stdout",
          "text": [
            "     Sales Person    Country              Product       Date    Amount  \\\n",
            "0  Jehu Rudeforth         UK      Mint Chip Choco  04-Jan-22   $5,320    \n",
            "1     Van Tuxwell      India        85% Dark Bars  01-Aug-22   $7,896    \n",
            "2    Gigi Bohling      India  Peanut Butter Cubes  07-Jul-22   $4,501    \n",
            "3    Jan Morforth  Australia  Peanut Butter Cubes  27-Apr-22  $12,726    \n",
            "4  Jehu Rudeforth         UK  Peanut Butter Cubes  24-Feb-22  $13,685    \n",
            "\n",
            "   Boxes Shipped  \n",
            "0            180  \n",
            "1             94  \n",
            "2             91  \n",
            "3            342  \n",
            "4            184  \n",
            "Missing Date values: 0\n"
          ]
        }
      ]
    }
  ]
}